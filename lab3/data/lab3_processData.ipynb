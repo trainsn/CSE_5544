{
 "cells": [
  {
   "cell_type": "code",
   "execution_count": 1,
   "metadata": {},
   "outputs": [],
   "source": [
    "import pandas as pd\n",
    "import numpy as np\n",
    "from datetime import date, timedelta\n",
    "import warnings\n",
    "warnings.filterwarnings('ignore')"
   ]
  },
  {
   "cell_type": "code",
   "execution_count": 14,
   "metadata": {},
   "outputs": [],
   "source": [
    "casesByDate = pd.read_csv('us-states.csv')\n",
    "casesByDate['date'] = pd.to_datetime(casesByDate.date).dt.date"
   ]
  },
  {
   "cell_type": "code",
   "execution_count": 75,
   "metadata": {},
   "outputs": [],
   "source": [
    "states = casesByDate['state'].drop_duplicates().reset_index(drop=True).sort_values()"
   ]
  },
  {
   "cell_type": "code",
   "execution_count": 45,
   "metadata": {},
   "outputs": [],
   "source": [
    "casesByState = casesByDate.drop_duplicates(['state'], 'last').reset_index(drop=True).loc[:, ['state', 'cases']]"
   ]
  },
  {
   "cell_type": "code",
   "execution_count": 79,
   "metadata": {},
   "outputs": [],
   "source": [
    "casesJan = casesByDate[casesByDate['date'] <= date(2020, 1, 31)].drop_duplicates(['state'], 'last').reset_index(drop=True).loc[:, ['state', 'cases']]\n",
    "casesFeb = casesByDate[casesByDate['date'] <= date(2020, 2, 29)].drop_duplicates(['state'], 'last').reset_index(drop=True).loc[:, ['state', 'cases']]\n",
    "casesMar = casesByDate[casesByDate['date'] <= date(2020, 3, 31)].drop_duplicates(['state'], 'last').reset_index(drop=True).loc[:, ['state', 'cases']]\n",
    "casesApr = casesByDate[casesByDate['date'] <= date(2020, 4, 30)].drop_duplicates(['state'], 'last').reset_index(drop=True).loc[:, ['state', 'cases']]\n",
    "casesMay = casesByDate[casesByDate['date'] <= date(2020, 5, 31)].drop_duplicates(['state'], 'last').reset_index(drop=True).loc[:, ['state', 'cases']]\n",
    "casesJune = casesByDate[casesByDate['date'] <= date(2020, 6, 30)].drop_duplicates(['state'], 'last').reset_index(drop=True).loc[:, ['state', 'cases']]\n",
    "casesJuly = casesByDate[casesByDate['date'] <= date(2020, 7, 31)].drop_duplicates(['state'], 'last').reset_index(drop=True).loc[:, ['state', 'cases']]\n",
    "casesAug = casesByDate[casesByDate['date'] <= date(2020, 8, 31)].drop_duplicates(['state'], 'last').reset_index(drop=True).loc[:, ['state', 'cases']]\n",
    "casesSept = casesByDate[casesByDate['date'] <= date(2020, 9, 30)].drop_duplicates(['state'], 'last').reset_index(drop=True).loc[:, ['state', 'cases']]\n",
    "casesOct = casesByDate[casesByDate['date'] <= date(2020, 10, 17)].drop_duplicates(['state'], 'last').reset_index(drop=True).loc[:, ['state', 'cases']]\n",
    "for state in states:\n",
    "    if len(casesJan[casesJan['state'] == state]) == 0:\n",
    "        casesJan = casesJan.append([{'state':state,  'cases': 0}], ignore_index=True)\n",
    "    if len(casesFeb[casesFeb['state'] == state]) == 0:\n",
    "        casesFeb = casesFeb.append([{'state':state,  'cases': 0}], ignore_index=True)"
   ]
  },
  {
   "cell_type": "code",
   "execution_count": 110,
   "metadata": {},
   "outputs": [],
   "source": [
    "casesByMonth = pd.DataFrame(columns=('state', 'month', 'cases'))\n",
    "for state in states:\n",
    "    caseJan = casesJan[casesJan['state'] == state].iloc[0]['cases']\n",
    "    caseFeb = casesFeb[casesFeb['state'] == state].iloc[0]['cases']\n",
    "    caseMar = casesMar[casesMar['state'] == state].iloc[0]['cases']\n",
    "    caseApr = casesApr[casesApr['state'] == state].iloc[0]['cases']\n",
    "    caseMay = casesMay[casesMay['state'] == state].iloc[0]['cases']\n",
    "    caseJune = casesJune[casesJune['state'] == state].iloc[0]['cases']\n",
    "    caseJuly = casesJuly[casesJuly['state'] == state].iloc[0]['cases']\n",
    "    caseAug = casesAug[casesAug['state'] == state].iloc[0]['cases'] \n",
    "    caseSept = casesSept[casesSept['state'] == state].iloc[0]['cases'] \n",
    "    caseOct = casesOct[casesOct['state'] == state].iloc[0]['cases'] \n",
    "    casesByMonth = casesByMonth.append([{'state':state, 'month':'2020-01', \n",
    "                                         'cases': caseJan}], \n",
    "                                       ignore_index=True)\n",
    "    casesByMonth = casesByMonth.append([{'state':state, 'month':'2020-02', \n",
    "                                         'cases': caseFeb - caseJan}], \n",
    "                                       ignore_index=True)\n",
    "    casesByMonth = casesByMonth.append([{'state':state, 'month':'2020-03', \n",
    "                                         'cases': caseMar - caseFeb}], \n",
    "                                       ignore_index=True)\n",
    "    casesByMonth = casesByMonth.append([{'state':state, 'month':'2020-04', \n",
    "                                         'cases': caseApr - caseMar}], \n",
    "                                       ignore_index=True)\n",
    "    casesByMonth = casesByMonth.append([{'state':state, 'month':'2020-05', \n",
    "                                         'cases': caseMay - caseApr}], \n",
    "                                       ignore_index=True)\n",
    "    casesByMonth = casesByMonth.append([{'state':state, 'month':'2020-06', \n",
    "                                         'cases': caseJune - caseMay}], \n",
    "                                       ignore_index=True)\n",
    "    casesByMonth = casesByMonth.append([{'state':state, 'month':'2020-07', \n",
    "                                         'cases': caseJuly - caseJune}], \n",
    "                                       ignore_index=True)\n",
    "    casesByMonth = casesByMonth.append([{'state':state, 'month':'2020-08', \n",
    "                                         'cases': caseAug - caseJuly}], \n",
    "                                       ignore_index=True)\n",
    "    casesByMonth = casesByMonth.append([{'state':state, 'month':'2020-09', \n",
    "                                         'cases': caseSept - caseAug}], \n",
    "                                       ignore_index=True)\n",
    "    casesByMonth = casesByMonth.append([{'state':state, 'month':'2020-10', \n",
    "                                         'cases': caseOct - caseSept}], \n",
    "                                       ignore_index=True)\n",
    "    \n",
    "#     casesByMonth.append([{'state':state, 'month':'2020-02', 'cases': casesJan['state']}], ignore_index=True)"
   ]
  },
  {
   "cell_type": "code",
   "execution_count": 112,
   "metadata": {},
   "outputs": [],
   "source": [
    "casesByState.to_csv('casesByState.csv')\n",
    "casesByMonth.to_csv('casesByMonth.csv')"
   ]
  }
 ],
 "metadata": {
  "kernelspec": {
   "display_name": "Python 3",
   "language": "python",
   "name": "python3"
  },
  "language_info": {
   "codemirror_mode": {
    "name": "ipython",
    "version": 3
   },
   "file_extension": ".py",
   "mimetype": "text/x-python",
   "name": "python",
   "nbconvert_exporter": "python",
   "pygments_lexer": "ipython3",
   "version": "3.5.2"
  }
 },
 "nbformat": 4,
 "nbformat_minor": 2
}
